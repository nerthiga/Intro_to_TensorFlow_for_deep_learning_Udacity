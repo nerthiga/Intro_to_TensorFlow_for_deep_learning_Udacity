{
  "nbformat": 4,
  "nbformat_minor": 0,
  "metadata": {
    "colab": {
      "name": "Lesson_5.ipynb",
      "provenance": []
    },
    "kernelspec": {
      "name": "python3",
      "display_name": "Python 3"
    },
    "language_info": {
      "name": "python"
    }
  },
  "cells": [
    {
      "cell_type": "code",
      "metadata": {
        "id": "5A5ZtR2MPzPm"
      },
      "source": [
        "import tensorflow as tf\n",
        "from tensorflow.keras.preprocessing.image import ImageDataGenerator\n",
        "import os\n",
        "import numpy as np\n",
        "import matplotlib.pyplot as plt"
      ],
      "execution_count": 1,
      "outputs": []
    },
    {
      "cell_type": "code",
      "metadata": {
        "id": "_speBD3aSLcS"
      },
      "source": [
        "import logging\n",
        "logger = tf.get_logger()\n",
        "logger.setLevel(logging.ERROR)\n"
      ],
      "execution_count": 2,
      "outputs": []
    },
    {
      "cell_type": "code",
      "metadata": {
        "colab": {
          "base_uri": "https://localhost:8080/"
        },
        "id": "lQj8d5zxSkR1",
        "outputId": "a1c928ac-80c7-4068-92b4-a61989bb10aa"
      },
      "source": [
        "url = 'https://storage.googleapis.com/mledu-datasets/cats_and_dogs_filtered.zip'\n",
        "zip = tf.keras.utils.get_file('cats_and_dogs_filterted.zip', origin=url, extract=True)"
      ],
      "execution_count": 3,
      "outputs": [
        {
          "output_type": "stream",
          "text": [
            "Downloading data from https://storage.googleapis.com/mledu-datasets/cats_and_dogs_filtered.zip\n",
            "68608000/68606236 [==============================] - 2s 0us/step\n"
          ],
          "name": "stdout"
        }
      ]
    },
    {
      "cell_type": "code",
      "metadata": {
        "colab": {
          "base_uri": "https://localhost:8080/"
        },
        "id": "R0kfqUADUB-S",
        "outputId": "600b5479-e2ea-41ca-af61-205120e1ccc6"
      },
      "source": [
        "zip_base = os.path.dirname(zip)\n",
        "!find $zip_dir_base -type d -print"
      ],
      "execution_count": 4,
      "outputs": [
        {
          "output_type": "stream",
          "text": [
            ".\n",
            "./.config\n",
            "./.config/logs\n",
            "./.config/logs/2021.04.07\n",
            "./.config/configurations\n",
            "./sample_data\n"
          ],
          "name": "stdout"
        }
      ]
    },
    {
      "cell_type": "code",
      "metadata": {
        "id": "qDvouM-6WRRR"
      },
      "source": [
        "zip_base_full = os.path.join(os.path.dirname(zip), 'cats_and_dogs_filtered')\n",
        "zip_train = os.path.join(zip_base_full, 'train')\n",
        "zip_val = os.path.join(zip_base_full, 'validation')\n",
        "\n",
        "zip_train_cats = os.path.join(zip_train, 'cats')\n",
        "zip_train_dogs = os.path.join(zip_train, 'dogs')\n",
        "zip_val_cats = os.path.join(zip_val, 'cats')\n",
        "zip_val_dogs = os.path.join(zip_val, 'dogs')"
      ],
      "execution_count": 5,
      "outputs": []
    }
  ]
}