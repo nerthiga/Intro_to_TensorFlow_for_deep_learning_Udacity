{
  "nbformat": 4,
  "nbformat_minor": 0,
  "metadata": {
    "colab": {
      "name": "Lesson_5.ipynb",
      "provenance": []
    },
    "kernelspec": {
      "name": "python3",
      "display_name": "Python 3"
    },
    "language_info": {
      "name": "python"
    }
  },
  "cells": [
    {
      "cell_type": "code",
      "metadata": {
        "id": "5A5ZtR2MPzPm"
      },
      "source": [
        "import tensorflow as tf\n",
        "from tensorflow.keras.preprocessing.image import ImageDataGenerator\n",
        "import os\n",
        "import numpy as np\n",
        "import matplotlib.pyplot as plt"
      ],
      "execution_count": 1,
      "outputs": []
    },
    {
      "cell_type": "code",
      "metadata": {
        "id": "_speBD3aSLcS"
      },
      "source": [
        "import logging\n",
        "logger = tf.get_logger()\n",
        "logger.setLevel(logging.ERROR)\n"
      ],
      "execution_count": 2,
      "outputs": []
    },
    {
      "cell_type": "code",
      "metadata": {
        "colab": {
          "base_uri": "https://localhost:8080/"
        },
        "id": "lQj8d5zxSkR1",
        "outputId": "220b6321-faff-464a-f24c-7c5a79e0c524"
      },
      "source": [
        "url = 'https://storage.googleapis.com/mledu-datasets/cats_and_dogs_filtered.zip'\n",
        "zip = tf.keras.utils.get_file('cats_and_dogs_filterted.zip', origin=url, extract=True)"
      ],
      "execution_count": 3,
      "outputs": [
        {
          "output_type": "stream",
          "text": [
            "Downloading data from https://storage.googleapis.com/mledu-datasets/cats_and_dogs_filtered.zip\n",
            "68608000/68606236 [==============================] - 0s 0us/step\n"
          ],
          "name": "stdout"
        }
      ]
    },
    {
      "cell_type": "code",
      "metadata": {
        "colab": {
          "base_uri": "https://localhost:8080/"
        },
        "id": "R0kfqUADUB-S",
        "outputId": "a63523f2-435b-479b-99d3-87ed30dcc4e4"
      },
      "source": [
        "zip_base = os.path.dirname(zip)\n",
        "!find $zip_dir_base -type d -print"
      ],
      "execution_count": 4,
      "outputs": [
        {
          "output_type": "stream",
          "text": [
            ".\n",
            "./.config\n",
            "./.config/logs\n",
            "./.config/logs/2021.04.07\n",
            "./.config/configurations\n",
            "./sample_data\n"
          ],
          "name": "stdout"
        }
      ]
    },
    {
      "cell_type": "code",
      "metadata": {
        "id": "qDvouM-6WRRR"
      },
      "source": [
        "zip_base_full = os.path.join(os.path.dirname(zip), 'cats_and_dogs_filtered')\n",
        "zip_train = os.path.join(zip_base_full, 'train')\n",
        "zip_val = os.path.join(zip_base_full, 'validation')\n",
        "\n",
        "zip_train_cats = os.path.join(zip_train, 'cats')\n",
        "zip_train_dogs = os.path.join(zip_train, 'dogs')\n",
        "zip_val_cats = os.path.join(zip_val, 'cats')\n",
        "zip_val_dogs = os.path.join(zip_val, 'dogs')"
      ],
      "execution_count": 5,
      "outputs": []
    },
    {
      "cell_type": "code",
      "metadata": {
        "id": "-ShzAx8_IscH"
      },
      "source": [
        "len_cats_train = len(os.listdir(zip_train_cats))\n",
        "len_dogs_train = len(os.listdir(zip_train_dogs))\n",
        "len_cats_val = len(os.listdir(zip_val_cats))\n",
        "len_dogs_val = len(os.listdir(zip_val_dogs))\n",
        "\n",
        "total_cats = len_cats_train + len_cats_val\n",
        "total_dogs = len_dogs_train + len_dogs_train\n"
      ],
      "execution_count": 6,
      "outputs": []
    },
    {
      "cell_type": "code",
      "metadata": {
        "colab": {
          "base_uri": "https://localhost:8080/"
        },
        "id": "ha6o5HsCKEP2",
        "outputId": "df124523-9e3d-454a-a09b-9c55ea4de2af"
      },
      "source": [
        "print(\"The number of cats in training data:\",len_cats_train)\n",
        "print(\"The number of dogs in training data:\",len_dogs_train)\n",
        "print(\"The number of cats in validation data:\",len_cats_val)\n",
        "print(\"The number of dogs in validation data:\",len_dogs_val)"
      ],
      "execution_count": 8,
      "outputs": [
        {
          "output_type": "stream",
          "text": [
            "The number of cats in training data: 1000\n",
            "The number of dogs in training data: 1000\n",
            "The number of cats in validation data: 500\n",
            "The number of dogs in validation data: 500\n"
          ],
          "name": "stdout"
        }
      ]
    },
    {
      "cell_type": "code",
      "metadata": {
        "id": "ilWkvYvgPmwe"
      },
      "source": [
        "batch_size = 100\n",
        "image_shape = 150"
      ],
      "execution_count": 9,
      "outputs": []
    }
  ]
}